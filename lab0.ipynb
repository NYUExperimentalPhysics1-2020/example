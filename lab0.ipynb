{
 "cells": [
  {
   "cell_type": "markdown",
   "metadata": {},
   "source": [
    "1.(1 pts) What is the period of a 1 meter pendulum in each of these cities? "
   ]
  },
  {
   "cell_type": "code",
   "execution_count": 21,
   "metadata": {},
   "outputs": [
    {
     "name": "stdout",
     "output_type": "stream",
     "text": [
      "['nyc', 'helsinki', 'shanghai', 'sydney', 'hyderabad', 'honolulu']\n",
      "[2.00687082 2.0051471  2.00769027 2.00744638 2.00884022 2.00837734]\n"
     ]
    }
   ],
   "source": [
    "import numpy as np\n",
    "from pandas import *\n",
    "# all the gravitational constant\n",
    "g =np.array( [9.80214 ,9.819,9.79414 ,9.79652 ,9.78293 ,9.78744])\n",
    "# matching city names\n",
    "city=[ 'nyc','helsinki','shanghai','sydney','hyderabad','honolulu' ]\n",
    "# period\n",
    "T = 2*np.pi*np.sqrt(1/g)\n",
    "print(city)\n",
    "print(T)"
   ]
  },
  {
   "cell_type": "markdown",
   "metadata": {},
   "source": [
    "2 . (1 pts) Let’s define a ‘New York Minute’ as the time it takes a 1 meter pendulum to do 30 complete oscillations in New York\n",
    "City. How long is a New York Minute in actual minutes (i.e. New York Minute / 60 seconds). "
   ]
  },
  {
   "cell_type": "code",
   "execution_count": 32,
   "metadata": {},
   "outputs": [
    {
     "data": {
      "text/plain": [
       "(60.20612452761518, 1.0034354087935864)"
      ]
     },
     "execution_count": 32,
     "metadata": {},
     "output_type": "execute_result"
    }
   ],
   "source": [
    "# period of city named 'nyc' times 30, that divided by 60\n",
    "T[city.index('nyc')]*30 ,  T[city.index('nyc')]*30/60"
   ]
  },
  {
   "cell_type": "markdown",
   "metadata": {},
   "source": [
    "3. (1pts) Complete the table"
   ]
  },
  {
   "cell_type": "code",
   "execution_count": 23,
   "metadata": {},
   "outputs": [
    {
     "name": "stdout",
     "output_type": "stream",
     "text": [
      "table \n",
      "            0                   1                   2                       3  \\\n",
      "0        nyc                 1.0                 1.0                     0.0   \n",
      "1   helsinki  1.0017200325643176  0.9991410915720089   0.0017200325643176306   \n",
      "2   shanghai  0.9991838516895291  1.0004083241120172  -0.0008161483104709433   \n",
      "3     sydney   0.999426655811894  1.0002867954243144  -0.0005733441881059509   \n",
      "4  hyderabad  0.9980402238694817  1.0009813306924042  -0.0019597761305183425   \n",
      "5   honolulu  0.9985003274795097  1.0007506806972528   -0.001499672520490325   \n",
      "\n",
      "                        4  \n",
      "0                     0.0  \n",
      "1  -0.0008589084279910786  \n",
      "2  0.00040832411201718877  \n",
      "3   0.0002867954243144233  \n",
      "4   0.0009813306924042475  \n",
      "5   0.0007506806972528146  \n"
     ]
    }
   ],
   "source": [
    "#print('g/gNYC: \\n',g_norm)\n",
    "g_norm = g/g[0]\n",
    "#print('local minute/ new york minute: \\n',T_norm)\n",
    "T_norm = T/T[0]\n",
    "#print('g devation: \\n', dg)\n",
    "dg = g_norm-1\n",
    "#print(\"time deviation:\\n \",dT)\n",
    "dT = T_norm-1\n",
    "# the table\n",
    "table3= np.transpose(np.array([city, g_norm,T_norm,dg,dT]))\n",
    "print('table \\n',DataFrame(table3))\n"
   ]
  },
  {
   "cell_type": "markdown",
   "metadata": {},
   "source": [
    "4 . (1 pts) Say you adjust the length of the pendulum until you get a period of exactly 2 second. Call this length L local .\n",
    "Please complete the following table \n"
   ]
  },
  {
   "cell_type": "code",
   "execution_count": 24,
   "metadata": {},
   "outputs": [
    {
     "name": "stdout",
     "output_type": "stream",
     "text": [
      "table 4: \n",
      "            0                   1                   2                      3  \\\n",
      "0        nyc  0.9931644270279048  0.9931644270279048   -0.00683557297209525   \n",
      "1   helsinki  0.9948727021841147  0.9948727021841147  -0.005127297815885279   \n",
      "2   shanghai  0.9923538575587662  0.9923538575587662   -0.00764614244123385   \n",
      "3     sydney  0.9925950019758348  0.9925950019758348  -0.007404998024165166   \n",
      "4  hyderabad  0.9912180470901355  0.9912180470901355  -0.008781952909864499   \n",
      "5   honolulu  0.9916750056283625  0.9916750056283625  -0.008324994371637473   \n",
      "\n",
      "                   4                       5                     6  \\\n",
      "0  99.31644270279048                     0.0                   0.0   \n",
      "1  99.48727021841147   0.0017200325643176306   0.17082751562098508   \n",
      "2  99.23538575587662  -0.0008161483104709433  -0.08105694691386134   \n",
      "3  99.25950019758348  -0.0005733441881059509   -0.0569425052070045   \n",
      "4  99.12180470901355  -0.0019597761305183425  -0.19463799377693647   \n",
      "5  99.16750056283625   -0.001499672520490325  -0.14894213995422945   \n",
      "\n",
      "                        7  \n",
      "0                     0.0  \n",
      "1    0.001720032564317624  \n",
      "2  -0.0008161483104708894  \n",
      "3  -0.0005733441881059701  \n",
      "4  -0.0019597761305184943  \n",
      "5  -0.0014996725204903523  \n"
     ]
    }
   ],
   "source": [
    "# plug and chug\n",
    "\n",
    "table4 = np.transpose(np.array([ city, g/np.pi**2,g/np.pi**2,g/np.pi**2-1, (g/np.pi**2)*100,dg, (g/np.pi**2)*100-((g/np.pi**2)*100)[0],((g/np.pi**2)*100-((g/np.pi**2)*100)[0])/((g/np.pi**2)*100)[0] ]   ))\n",
    "print('table 4: \\n',DataFrame(table4))"
   ]
  },
  {
   "cell_type": "markdown",
   "metadata": {},
   "source": [
    "5. (2 pts) Say I showed you data on the length and period of a pendulum. I know the length is L ±∆L and the period is T ±∆T ,\n",
    "which means that I’m fairly confident that the length is somewhere between L −∆L and L +∆L, etc. The data were\n",
    "taken in New York City or Shanghai, but I lost track of which one.\n",
    "\n",
    "a) If L is 1 meter, and ∆T = 0, how small should ∆L be if you want to know which city the pendulum was in?\n",
    ">  To differentiate NYC and Shanghai, we need to calculate g from the given period and length. We have $g = L/ ( {T/2 \\pi})^2$, thus the uncertainty in g due to the uncertainty in L, $\\Delta g = \\Delta L / (T/2 \\pi)^2$ where T ~ 2s. $\\Delta g $ should be smaller than the actual difference in g: $|g_{NYC}-g_{SH}|$, thus $\\Delta L$ should be smaller than:$|g_{NYC}-g_{SH}|(T/2 \\pi)^2$\n"
   ]
  },
  {
   "cell_type": "code",
   "execution_count": 25,
   "metadata": {},
   "outputs": [
    {
     "name": "stdout",
     "output_type": "stream",
     "text": [
      "0.0008168149526144327 meter\n"
     ]
    }
   ],
   "source": [
    "print(np.abs(g[0]-g[2])*(T[2]/2/np.pi)**2,'meter')"
   ]
  },
  {
   "cell_type": "markdown",
   "metadata": {},
   "source": [
    "b) If ∆L is 0, write down a relation that ∆T and T should satisfy if you want to know which city the pendulum\n",
    "was in."
   ]
  },
  {
   "cell_type": "markdown",
   "metadata": {},
   "source": [
    "We want to measure g, and uncertainty in time $ \\Delta T$ will give us uncertainty in g, $\\Delta g$. We want this to be smaller than the difference in g in the two cities.\n",
    "> $g = \\frac{ 4 \\pi^2 L}{T^2}$\n",
    "\n",
    "> $g + \\Delta g  = \\frac{ 4 \\pi^2 L}{(T + \\Delta T)^2}$\n",
    "\n",
    "> $\\Delta g  = |\\frac{ 4 \\pi^2 L}{(T + \\Delta T)^2} -\\frac{ 4 \\pi^2 L}{T^2} | = 4 \\pi^2 L(\\frac{1}{T^2}-\\frac{ 1}{(T + \\Delta T)^2}  )  $\n",
    "\n",
    "> This must be smaller than  actual difference in g in the two cities.\n",
    "> Thus, $ (\\frac{1}{T^2}-\\frac{ 1}{(T + \\Delta T)^2}  ) < \\frac{ |g_{NYC}-g_{SH}|}{4 \\pi^2 L} $"
   ]
  },
  {
   "cell_type": "markdown",
   "metadata": {},
   "source": [
    "6. (2 pts) At room temperature, nylon fishing line changes its length by a fraction of −5∗10−5\n",
    "/\n",
    "◦C (this is called the coefficient\n",
    "of thermal expansion). That is, if you increase the temperature by 1 degree C, it gets shorter by .005%. If you adjusted\n",
    "the length of your pendulum, made with a nylon line, so that its period is exactly 1 second, how much would the\n",
    "period change if you increased the temperature by 2 degrees C? Does this result depend on the local value of g ? You\n",
    "can use an extreme value (like 20) to check.\n",
    "\n",
    "> $L = \\frac{gT^2}{4 \\pi^2} $\n",
    "\n",
    "> The change in length:  $\\Delta L = L k \\Delta t$ where $ k = -5 \\times10^{-5}$, and $ \\Delta t = 2$ degree C \n",
    "\n",
    "> The new Length: $ L' = L+ \\Delta L = L(1 + k \\Delta t)  = \\frac{g T^2}{4  \\pi^2}(1+   k \\Delta t )  $\n",
    "\n",
    "> The new period: $ T' = 2 \\pi \\sqrt{ \\frac{L'}{g}}  $\n",
    "\n",
    "> The change in period: $ \\Delta T = T' -T =  2 \\pi \\sqrt{ \\frac{L'}{g}} - 2 \\pi \\sqrt{ \\frac{L}{g}} $\n",
    "\n",
    "> $ \\Delta T = 2 \\pi \\sqrt{\\frac{L}{g}} ( \\sqrt{1 + k \\Delta t} - 1) =T( \\sqrt{1 + k \\Delta t} - 1) $"
   ]
  },
  {
   "cell_type": "code",
   "execution_count": 26,
   "metadata": {},
   "outputs": [
    {
     "data": {
      "text/plain": [
       "4.9998750062396624e-05"
      ]
     },
     "execution_count": 26,
     "metadata": {},
     "output_type": "execute_result"
    }
   ],
   "source": [
    "1*(np.sqrt(1+ 2*5*0.00001)-1)"
   ]
  },
  {
   "cell_type": "markdown",
   "metadata": {},
   "source": [
    "Does this result depend on the local value of g ? You can use an extreme value (like 20) to check.\n",
    "> No"
   ]
  },
  {
   "cell_type": "markdown",
   "metadata": {},
   "source": [
    "Ironically, nylon fishing line’s properties degrade when wet. At room temperature, wet nylon fishing line has a\n",
    "thermal expansion coefficient of −2.5∗10−4\n",
    "/\n",
    "◦C , 5 times as great as before. If you adjusted the length of a pendulum\n",
    "made with a wet nylon line so that its period is exactly 1 second, how much would the period change if you increased\n",
    "the temperature by 2 degrees C?\n"
   ]
  },
  {
   "cell_type": "code",
   "execution_count": 31,
   "metadata": {},
   "outputs": [
    {
     "data": {
      "text/plain": [
       "0.0002499687578101373"
      ]
     },
     "execution_count": 31,
     "metadata": {},
     "output_type": "execute_result"
    }
   ],
   "source": [
    "1*(np.sqrt(1+ 2*5*5*0.00001)-1)"
   ]
  },
  {
   "cell_type": "markdown",
   "metadata": {},
   "source": [
    "7. (2 pts) We often express things in terms of fractional error. For example, $ \\Delta T /T  $  is the fractional error in the measurement of\n",
    "the period. If the period is 2 seconds, and your thing you have measured the period to an accuracy of 2 milliseconds,\n",
    "your fractional error is .001 or 1 part in a thousand. Fractional errors are always dimensionless. For each of these,\n",
    "please tell me the maximum fractional error in your measurement that would be the same size as the effect you’re\n",
    "trying to measure."
   ]
  },
  {
   "cell_type": "markdown",
   "metadata": {},
   "source": [
    "The difference in period between New York City and Shanghai, using a 1 meter pendulum"
   ]
  },
  {
   "cell_type": "code",
   "execution_count": 27,
   "metadata": {},
   "outputs": [
    {
     "data": {
      "text/plain": [
       "0.0004083241120172043"
      ]
     },
     "execution_count": 27,
     "metadata": {},
     "output_type": "execute_result"
    }
   ],
   "source": [
    "(T[city.index('shanghai')]-T[city.index('nyc')])/T[city.index('nyc')]"
   ]
  },
  {
   "cell_type": "markdown",
   "metadata": {},
   "source": [
    " The difference in period between New York City and Shanghai, using a 2 meter pendulum\n"
   ]
  },
  {
   "cell_type": "code",
   "execution_count": 28,
   "metadata": {},
   "outputs": [
    {
     "data": {
      "text/plain": [
       "0.0004083241120172043"
      ]
     },
     "execution_count": 28,
     "metadata": {},
     "output_type": "execute_result"
    }
   ],
   "source": [
    "T2 = 2*np.pi*np.sqrt(2/g)\n",
    "(T[city.index('shanghai')]-T[city.index('nyc')])/T[city.index('nyc')]"
   ]
  },
  {
   "cell_type": "markdown",
   "metadata": {},
   "source": [
    "The difference in period between New York City and Shanghai, using a 10 meter pendulum (are these all the\n",
    "same? hmmm....)\n"
   ]
  },
  {
   "cell_type": "code",
   "execution_count": 29,
   "metadata": {},
   "outputs": [
    {
     "data": {
      "text/plain": [
       "0.0004083241120172043"
      ]
     },
     "execution_count": 29,
     "metadata": {},
     "output_type": "execute_result"
    }
   ],
   "source": [
    "T10 = 2*np.pi*np.sqrt(2/g)\n",
    "(T[city.index('shanghai')]-T[city.index('nyc')])/T[city.index('nyc')]"
   ]
  },
  {
   "cell_type": "markdown",
   "metadata": {},
   "source": [
    "The difference in period if you change the length of a 2 meter pendulum by 1.27 mm (one turn of a 1/4-20\n",
    "screw).\n",
    "\n",
    "> Taking advantage of answer in 6,  $ \\Delta T =T( \\sqrt{1 + \\text{ fraction of change in length } } - 1)$, thus $\\frac{\\Delta T}{T} = ( \\sqrt{1 + \\text{ fraction of change in length } } - 1)  $ here fraction of change in length is 1.27 mm / 2 meter, and not causing by thermal contraction, but that's fine"
   ]
  },
  {
   "cell_type": "code",
   "execution_count": 30,
   "metadata": {},
   "outputs": [
    {
     "data": {
      "text/plain": [
       "0.000317449612871723"
      ]
     },
     "execution_count": 30,
     "metadata": {},
     "output_type": "execute_result"
    }
   ],
   "source": [
    "np.sqrt(1+ 1.27*0.001/2)-1"
   ]
  },
  {
   "cell_type": "code",
   "execution_count": null,
   "metadata": {},
   "outputs": [],
   "source": []
  }
 ],
 "metadata": {
  "kernelspec": {
   "display_name": "Python 3",
   "language": "python",
   "name": "python3"
  },
  "language_info": {
   "codemirror_mode": {
    "name": "ipython",
    "version": 3
   },
   "file_extension": ".py",
   "mimetype": "text/x-python",
   "name": "python",
   "nbconvert_exporter": "python",
   "pygments_lexer": "ipython3",
   "version": "3.8.3"
  }
 },
 "nbformat": 4,
 "nbformat_minor": 4
}
